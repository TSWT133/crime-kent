{
 "cells": [
  {
   "cell_type": "code",
   "execution_count": 7,
   "id": "ed63adf2",
   "metadata": {},
   "outputs": [],
   "source": [
    "#importing libraries\n",
    "\n",
    "import numpy as np\n",
    "import pandas as pd\n",
    "import matplotlib.pyplot as plt\n",
    "import seaborn as sns\n",
    "from encodings.aliases import aliases\n",
    "%matplotlib inline"
   ]
  },
  {
   "cell_type": "code",
   "execution_count": 8,
   "id": "14614ad2",
   "metadata": {},
   "outputs": [
    {
     "name": "stdout",
     "output_type": "stream",
     "text": [
      "successful iso8859_6\n",
      "successful shift_jis_2004\n",
      "successful cp863\n",
      "successful cp861\n",
      "successful cp869\n",
      "successful cp860\n",
      "successful utf_8\n",
      "successful mac_cyrillic\n",
      "successful cp1251\n",
      "successful cp1258\n",
      "successful gbk\n",
      "successful cp862\n",
      "successful cp437\n",
      "successful cp866\n",
      "successful mbcs\n",
      "successful cp950\n",
      "successful cp1252\n",
      "successful mac_greek\n",
      "successful cp1250\n",
      "successful iso8859_15\n",
      "successful mac_latin2\n",
      "successful gb18030\n",
      "successful iso8859_11\n",
      "successful cp1256\n",
      "successful cp852\n",
      "successful cp857\n",
      "successful koi8_r\n",
      "successful cp1253\n",
      "successful mac_iceland\n",
      "successful ptcp154\n",
      "successful iso8859_10\n",
      "successful hp_roman8\n",
      "successful mac_roman\n",
      "successful iso8859_14\n",
      "successful latin_1\n",
      "successful iso8859_4\n",
      "successful iso8859_3\n",
      "successful iso8859_7\n",
      "successful mac_turkish\n",
      "successful iso8859_2\n",
      "successful cp775\n",
      "successful kz1048\n",
      "successful cp1257\n",
      "successful cp855\n",
      "successful iso8859_9\n",
      "successful big5hkscs\n",
      "successful iso8859_13\n",
      "successful cp865\n",
      "successful cp864\n",
      "successful tis_620\n",
      "successful big5\n",
      "successful cp850\n",
      "successful cp1125\n",
      "successful cp858\n",
      "successful iso8859_16\n",
      "successful shift_jisx0213\n",
      "successful johab\n",
      "successful cp1255\n",
      "successful cp949\n",
      "successful cp1254\n",
      "successful iso8859_5\n"
     ]
    }
   ],
   "source": [
    "#Checking types of encoding to read csv file\n",
    "\n",
    "alias_values = set(aliases.values())\n",
    "\n",
    "for encoding in set(aliases.values()):\n",
    "    try:\n",
    "        df=pd.read_csv(\"Final-kent-crime.csv\", nrows=10, encoding=encoding)\n",
    "        print(\"successful\", encoding)\n",
    "    except:\n",
    "        pass"
   ]
  },
  {
   "cell_type": "code",
   "execution_count": 9,
   "id": "da9a1f0f",
   "metadata": {},
   "outputs": [],
   "source": [
    "#importing csv file\n",
    "\n",
    "crime = pd.read_csv(\"Final-kent-crime.csv\", encoding=\"utf-8\")"
   ]
  },
  {
   "cell_type": "code",
   "execution_count": 13,
   "id": "3027062f",
   "metadata": {
    "scrolled": true
   },
   "outputs": [
    {
     "data": {
      "text/html": [
       "<div>\n",
       "<style scoped>\n",
       "    .dataframe tbody tr th:only-of-type {\n",
       "        vertical-align: middle;\n",
       "    }\n",
       "\n",
       "    .dataframe tbody tr th {\n",
       "        vertical-align: top;\n",
       "    }\n",
       "\n",
       "    .dataframe thead th {\n",
       "        text-align: right;\n",
       "    }\n",
       "</style>\n",
       "<table border=\"1\" class=\"dataframe\">\n",
       "  <thead>\n",
       "    <tr style=\"text-align: right;\">\n",
       "      <th></th>\n",
       "      <th>Crime ID</th>\n",
       "      <th>Date</th>\n",
       "      <th>Reported by</th>\n",
       "      <th>Jurisdiction</th>\n",
       "      <th>Longitude</th>\n",
       "      <th>Latitude</th>\n",
       "      <th>Location</th>\n",
       "      <th>LSOA code</th>\n",
       "      <th>LSOA name</th>\n",
       "      <th>Crime type</th>\n",
       "      <th>Last outcome category</th>\n",
       "      <th>Day</th>\n",
       "      <th>Month</th>\n",
       "      <th>Year</th>\n",
       "    </tr>\n",
       "  </thead>\n",
       "  <tbody>\n",
       "    <tr>\n",
       "      <th>0</th>\n",
       "      <td>8d4544b7a30f88116299606d164e08462513e8feb8a9ce...</td>\n",
       "      <td>01/12/2020</td>\n",
       "      <td>Kent Police</td>\n",
       "      <td>Kent Police</td>\n",
       "      <td>-1.459830</td>\n",
       "      <td>53.026488</td>\n",
       "      <td>On or near Farm Close</td>\n",
       "      <td>E01019411</td>\n",
       "      <td>Amber Valley 011B</td>\n",
       "      <td>Violence and sexual offences</td>\n",
       "      <td>Status update unavailable</td>\n",
       "      <td>Tuesday</td>\n",
       "      <td>December</td>\n",
       "      <td>2020</td>\n",
       "    </tr>\n",
       "    <tr>\n",
       "      <th>1</th>\n",
       "      <td>adbf054b39875e6fc9f01acf0d48dfbfeed39e372470e7...</td>\n",
       "      <td>01/12/2020</td>\n",
       "      <td>Kent Police</td>\n",
       "      <td>Kent Police</td>\n",
       "      <td>-0.656614</td>\n",
       "      <td>50.787593</td>\n",
       "      <td>On or near Parking Area</td>\n",
       "      <td>E01031419</td>\n",
       "      <td>Arun 015C</td>\n",
       "      <td>Violence and sexual offences</td>\n",
       "      <td>Status update unavailable</td>\n",
       "      <td>Tuesday</td>\n",
       "      <td>December</td>\n",
       "      <td>2020</td>\n",
       "    </tr>\n",
       "    <tr>\n",
       "      <th>2</th>\n",
       "      <td>NaN</td>\n",
       "      <td>01/12/2020</td>\n",
       "      <td>Kent Police</td>\n",
       "      <td>Kent Police</td>\n",
       "      <td>0.968272</td>\n",
       "      <td>51.255956</td>\n",
       "      <td>On or near Green Lane</td>\n",
       "      <td>E01023987</td>\n",
       "      <td>Ashford 001B</td>\n",
       "      <td>Anti-social behaviour</td>\n",
       "      <td>NaN</td>\n",
       "      <td>Tuesday</td>\n",
       "      <td>December</td>\n",
       "      <td>2020</td>\n",
       "    </tr>\n",
       "    <tr>\n",
       "      <th>3</th>\n",
       "      <td>NaN</td>\n",
       "      <td>01/12/2020</td>\n",
       "      <td>Kent Police</td>\n",
       "      <td>Kent Police</td>\n",
       "      <td>0.962332</td>\n",
       "      <td>51.244504</td>\n",
       "      <td>On or near The Square</td>\n",
       "      <td>E01023987</td>\n",
       "      <td>Ashford 001B</td>\n",
       "      <td>Anti-social behaviour</td>\n",
       "      <td>NaN</td>\n",
       "      <td>Tuesday</td>\n",
       "      <td>December</td>\n",
       "      <td>2020</td>\n",
       "    </tr>\n",
       "    <tr>\n",
       "      <th>4</th>\n",
       "      <td>NaN</td>\n",
       "      <td>01/12/2020</td>\n",
       "      <td>Kent Police</td>\n",
       "      <td>Kent Police</td>\n",
       "      <td>0.968272</td>\n",
       "      <td>51.255956</td>\n",
       "      <td>On or near Green Lane</td>\n",
       "      <td>E01023987</td>\n",
       "      <td>Ashford 001B</td>\n",
       "      <td>Anti-social behaviour</td>\n",
       "      <td>NaN</td>\n",
       "      <td>Tuesday</td>\n",
       "      <td>December</td>\n",
       "      <td>2020</td>\n",
       "    </tr>\n",
       "  </tbody>\n",
       "</table>\n",
       "</div>"
      ],
      "text/plain": [
       "                                            Crime ID        Date  Reported by  \\\n",
       "0  8d4544b7a30f88116299606d164e08462513e8feb8a9ce...  01/12/2020  Kent Police   \n",
       "1  adbf054b39875e6fc9f01acf0d48dfbfeed39e372470e7...  01/12/2020  Kent Police   \n",
       "2                                                NaN  01/12/2020  Kent Police   \n",
       "3                                                NaN  01/12/2020  Kent Police   \n",
       "4                                                NaN  01/12/2020  Kent Police   \n",
       "\n",
       "  Jurisdiction  Longitude   Latitude                 Location  LSOA code  \\\n",
       "0  Kent Police  -1.459830  53.026488    On or near Farm Close  E01019411   \n",
       "1  Kent Police  -0.656614  50.787593  On or near Parking Area  E01031419   \n",
       "2  Kent Police   0.968272  51.255956    On or near Green Lane  E01023987   \n",
       "3  Kent Police   0.962332  51.244504    On or near The Square  E01023987   \n",
       "4  Kent Police   0.968272  51.255956    On or near Green Lane  E01023987   \n",
       "\n",
       "           LSOA name                    Crime type      Last outcome category  \\\n",
       "0  Amber Valley 011B  Violence and sexual offences  Status update unavailable   \n",
       "1          Arun 015C  Violence and sexual offences  Status update unavailable   \n",
       "2       Ashford 001B         Anti-social behaviour                        NaN   \n",
       "3       Ashford 001B         Anti-social behaviour                        NaN   \n",
       "4       Ashford 001B         Anti-social behaviour                        NaN   \n",
       "\n",
       "       Day     Month  Year  \n",
       "0  Tuesday  December  2020  \n",
       "1  Tuesday  December  2020  \n",
       "2  Tuesday  December  2020  \n",
       "3  Tuesday  December  2020  \n",
       "4  Tuesday  December  2020  "
      ]
     },
     "execution_count": 13,
     "metadata": {},
     "output_type": "execute_result"
    }
   ],
   "source": [
    "crime.head()"
   ]
  },
  {
   "cell_type": "code",
   "execution_count": 14,
   "id": "6b281f46",
   "metadata": {},
   "outputs": [
    {
     "data": {
      "text/plain": [
       "(607667, 14)"
      ]
     },
     "execution_count": 14,
     "metadata": {},
     "output_type": "execute_result"
    }
   ],
   "source": [
    "crime.shape"
   ]
  },
  {
   "cell_type": "code",
   "execution_count": 16,
   "id": "e1146654",
   "metadata": {},
   "outputs": [
    {
     "data": {
      "text/plain": [
       "29019"
      ]
     },
     "execution_count": 16,
     "metadata": {},
     "output_type": "execute_result"
    }
   ],
   "source": [
    "crime.duplicated().sum()"
   ]
  },
  {
   "cell_type": "code",
   "execution_count": 17,
   "id": "cbaa93f6",
   "metadata": {},
   "outputs": [],
   "source": [
    "crime.drop_duplicates(inplace=True)"
   ]
  },
  {
   "cell_type": "code",
   "execution_count": 18,
   "id": "5349513a",
   "metadata": {},
   "outputs": [
    {
     "data": {
      "text/plain": [
       "(578648, 14)"
      ]
     },
     "execution_count": 18,
     "metadata": {},
     "output_type": "execute_result"
    }
   ],
   "source": [
    "crime.shape"
   ]
  },
  {
   "cell_type": "code",
   "execution_count": 20,
   "id": "ebce0c9e",
   "metadata": {
    "scrolled": true
   },
   "outputs": [
    {
     "data": {
      "text/html": [
       "<div>\n",
       "<style scoped>\n",
       "    .dataframe tbody tr th:only-of-type {\n",
       "        vertical-align: middle;\n",
       "    }\n",
       "\n",
       "    .dataframe tbody tr th {\n",
       "        vertical-align: top;\n",
       "    }\n",
       "\n",
       "    .dataframe thead th {\n",
       "        text-align: right;\n",
       "    }\n",
       "</style>\n",
       "<table border=\"1\" class=\"dataframe\">\n",
       "  <thead>\n",
       "    <tr style=\"text-align: right;\">\n",
       "      <th></th>\n",
       "      <th>Crime ID</th>\n",
       "      <th>Date</th>\n",
       "      <th>Reported by</th>\n",
       "      <th>Jurisdiction</th>\n",
       "      <th>Longitude</th>\n",
       "      <th>Latitude</th>\n",
       "      <th>Location</th>\n",
       "      <th>LSOA code</th>\n",
       "      <th>LSOA name</th>\n",
       "      <th>Crime type</th>\n",
       "      <th>Last outcome category</th>\n",
       "      <th>Day</th>\n",
       "      <th>Month</th>\n",
       "      <th>Year</th>\n",
       "    </tr>\n",
       "  </thead>\n",
       "  <tbody>\n",
       "    <tr>\n",
       "      <th>0</th>\n",
       "      <td>8d4544b7a30f88116299606d164e08462513e8feb8a9ce...</td>\n",
       "      <td>01/12/2020</td>\n",
       "      <td>Kent Police</td>\n",
       "      <td>Kent Police</td>\n",
       "      <td>-1.459830</td>\n",
       "      <td>53.026488</td>\n",
       "      <td>On or near Farm Close</td>\n",
       "      <td>E01019411</td>\n",
       "      <td>Amber Valley 011B</td>\n",
       "      <td>Violence and sexual offences</td>\n",
       "      <td>Status update unavailable</td>\n",
       "      <td>Tuesday</td>\n",
       "      <td>December</td>\n",
       "      <td>2020</td>\n",
       "    </tr>\n",
       "    <tr>\n",
       "      <th>1</th>\n",
       "      <td>adbf054b39875e6fc9f01acf0d48dfbfeed39e372470e7...</td>\n",
       "      <td>01/12/2020</td>\n",
       "      <td>Kent Police</td>\n",
       "      <td>Kent Police</td>\n",
       "      <td>-0.656614</td>\n",
       "      <td>50.787593</td>\n",
       "      <td>On or near Parking Area</td>\n",
       "      <td>E01031419</td>\n",
       "      <td>Arun 015C</td>\n",
       "      <td>Violence and sexual offences</td>\n",
       "      <td>Status update unavailable</td>\n",
       "      <td>Tuesday</td>\n",
       "      <td>December</td>\n",
       "      <td>2020</td>\n",
       "    </tr>\n",
       "    <tr>\n",
       "      <th>2</th>\n",
       "      <td>NaN</td>\n",
       "      <td>01/12/2020</td>\n",
       "      <td>Kent Police</td>\n",
       "      <td>Kent Police</td>\n",
       "      <td>0.968272</td>\n",
       "      <td>51.255956</td>\n",
       "      <td>On or near Green Lane</td>\n",
       "      <td>E01023987</td>\n",
       "      <td>Ashford 001B</td>\n",
       "      <td>Anti-social behaviour</td>\n",
       "      <td>NaN</td>\n",
       "      <td>Tuesday</td>\n",
       "      <td>December</td>\n",
       "      <td>2020</td>\n",
       "    </tr>\n",
       "    <tr>\n",
       "      <th>3</th>\n",
       "      <td>NaN</td>\n",
       "      <td>01/12/2020</td>\n",
       "      <td>Kent Police</td>\n",
       "      <td>Kent Police</td>\n",
       "      <td>0.962332</td>\n",
       "      <td>51.244504</td>\n",
       "      <td>On or near The Square</td>\n",
       "      <td>E01023987</td>\n",
       "      <td>Ashford 001B</td>\n",
       "      <td>Anti-social behaviour</td>\n",
       "      <td>NaN</td>\n",
       "      <td>Tuesday</td>\n",
       "      <td>December</td>\n",
       "      <td>2020</td>\n",
       "    </tr>\n",
       "    <tr>\n",
       "      <th>5</th>\n",
       "      <td>01b273489aeeb8ad478f6ec4f116f30e5e27685bb72a44...</td>\n",
       "      <td>01/12/2020</td>\n",
       "      <td>Kent Police</td>\n",
       "      <td>Kent Police</td>\n",
       "      <td>0.962332</td>\n",
       "      <td>51.244504</td>\n",
       "      <td>On or near The Square</td>\n",
       "      <td>E01023987</td>\n",
       "      <td>Ashford 001B</td>\n",
       "      <td>Violence and sexual offences</td>\n",
       "      <td>Further investigation is not in the public int...</td>\n",
       "      <td>Tuesday</td>\n",
       "      <td>December</td>\n",
       "      <td>2020</td>\n",
       "    </tr>\n",
       "    <tr>\n",
       "      <th>...</th>\n",
       "      <td>...</td>\n",
       "      <td>...</td>\n",
       "      <td>...</td>\n",
       "      <td>...</td>\n",
       "      <td>...</td>\n",
       "      <td>...</td>\n",
       "      <td>...</td>\n",
       "      <td>...</td>\n",
       "      <td>...</td>\n",
       "      <td>...</td>\n",
       "      <td>...</td>\n",
       "      <td>...</td>\n",
       "      <td>...</td>\n",
       "      <td>...</td>\n",
       "    </tr>\n",
       "    <tr>\n",
       "      <th>607662</th>\n",
       "      <td>622dc8b607ccaa4f5f0c8d1303ca5aa8ec6b387110113b...</td>\n",
       "      <td>01/11/2023</td>\n",
       "      <td>Kent Police</td>\n",
       "      <td>Kent Police</td>\n",
       "      <td>NaN</td>\n",
       "      <td>NaN</td>\n",
       "      <td>No Location</td>\n",
       "      <td>NaN</td>\n",
       "      <td>NaN</td>\n",
       "      <td>Other crime</td>\n",
       "      <td>Awaiting court outcome</td>\n",
       "      <td>Wednesday</td>\n",
       "      <td>November</td>\n",
       "      <td>2023</td>\n",
       "    </tr>\n",
       "    <tr>\n",
       "      <th>607663</th>\n",
       "      <td>e02b9fb749caab0c54458a005db48a7fd12fd72d7b0d15...</td>\n",
       "      <td>01/11/2023</td>\n",
       "      <td>Kent Police</td>\n",
       "      <td>Kent Police</td>\n",
       "      <td>NaN</td>\n",
       "      <td>NaN</td>\n",
       "      <td>No Location</td>\n",
       "      <td>NaN</td>\n",
       "      <td>NaN</td>\n",
       "      <td>Other crime</td>\n",
       "      <td>Under investigation</td>\n",
       "      <td>Wednesday</td>\n",
       "      <td>November</td>\n",
       "      <td>2023</td>\n",
       "    </tr>\n",
       "    <tr>\n",
       "      <th>607664</th>\n",
       "      <td>09b98abb5985f3196103999ca7df06e34f9f9e3516fba4...</td>\n",
       "      <td>01/11/2023</td>\n",
       "      <td>Kent Police</td>\n",
       "      <td>Kent Police</td>\n",
       "      <td>NaN</td>\n",
       "      <td>NaN</td>\n",
       "      <td>No Location</td>\n",
       "      <td>NaN</td>\n",
       "      <td>NaN</td>\n",
       "      <td>Other crime</td>\n",
       "      <td>Unable to prosecute suspect</td>\n",
       "      <td>Wednesday</td>\n",
       "      <td>November</td>\n",
       "      <td>2023</td>\n",
       "    </tr>\n",
       "    <tr>\n",
       "      <th>607665</th>\n",
       "      <td>7798d5c7fa06b90707ee52b724748f80cec5e59f04d583...</td>\n",
       "      <td>01/11/2023</td>\n",
       "      <td>Kent Police</td>\n",
       "      <td>Kent Police</td>\n",
       "      <td>NaN</td>\n",
       "      <td>NaN</td>\n",
       "      <td>No Location</td>\n",
       "      <td>NaN</td>\n",
       "      <td>NaN</td>\n",
       "      <td>Other crime</td>\n",
       "      <td>Unable to prosecute suspect</td>\n",
       "      <td>Wednesday</td>\n",
       "      <td>November</td>\n",
       "      <td>2023</td>\n",
       "    </tr>\n",
       "    <tr>\n",
       "      <th>607666</th>\n",
       "      <td>cfa27b1aba2f4d9afe26243830352b4249ae7ee06ec625...</td>\n",
       "      <td>01/11/2023</td>\n",
       "      <td>Kent Police</td>\n",
       "      <td>Kent Police</td>\n",
       "      <td>NaN</td>\n",
       "      <td>NaN</td>\n",
       "      <td>No Location</td>\n",
       "      <td>NaN</td>\n",
       "      <td>NaN</td>\n",
       "      <td>Other crime</td>\n",
       "      <td>Unable to prosecute suspect</td>\n",
       "      <td>Wednesday</td>\n",
       "      <td>November</td>\n",
       "      <td>2023</td>\n",
       "    </tr>\n",
       "  </tbody>\n",
       "</table>\n",
       "<p>578648 rows × 14 columns</p>\n",
       "</div>"
      ],
      "text/plain": [
       "                                                 Crime ID        Date  \\\n",
       "0       8d4544b7a30f88116299606d164e08462513e8feb8a9ce...  01/12/2020   \n",
       "1       adbf054b39875e6fc9f01acf0d48dfbfeed39e372470e7...  01/12/2020   \n",
       "2                                                     NaN  01/12/2020   \n",
       "3                                                     NaN  01/12/2020   \n",
       "5       01b273489aeeb8ad478f6ec4f116f30e5e27685bb72a44...  01/12/2020   \n",
       "...                                                   ...         ...   \n",
       "607662  622dc8b607ccaa4f5f0c8d1303ca5aa8ec6b387110113b...  01/11/2023   \n",
       "607663  e02b9fb749caab0c54458a005db48a7fd12fd72d7b0d15...  01/11/2023   \n",
       "607664  09b98abb5985f3196103999ca7df06e34f9f9e3516fba4...  01/11/2023   \n",
       "607665  7798d5c7fa06b90707ee52b724748f80cec5e59f04d583...  01/11/2023   \n",
       "607666  cfa27b1aba2f4d9afe26243830352b4249ae7ee06ec625...  01/11/2023   \n",
       "\n",
       "        Reported by Jurisdiction  Longitude   Latitude  \\\n",
       "0       Kent Police  Kent Police  -1.459830  53.026488   \n",
       "1       Kent Police  Kent Police  -0.656614  50.787593   \n",
       "2       Kent Police  Kent Police   0.968272  51.255956   \n",
       "3       Kent Police  Kent Police   0.962332  51.244504   \n",
       "5       Kent Police  Kent Police   0.962332  51.244504   \n",
       "...             ...          ...        ...        ...   \n",
       "607662  Kent Police  Kent Police        NaN        NaN   \n",
       "607663  Kent Police  Kent Police        NaN        NaN   \n",
       "607664  Kent Police  Kent Police        NaN        NaN   \n",
       "607665  Kent Police  Kent Police        NaN        NaN   \n",
       "607666  Kent Police  Kent Police        NaN        NaN   \n",
       "\n",
       "                       Location  LSOA code          LSOA name  \\\n",
       "0         On or near Farm Close  E01019411  Amber Valley 011B   \n",
       "1       On or near Parking Area  E01031419          Arun 015C   \n",
       "2         On or near Green Lane  E01023987       Ashford 001B   \n",
       "3         On or near The Square  E01023987       Ashford 001B   \n",
       "5         On or near The Square  E01023987       Ashford 001B   \n",
       "...                         ...        ...                ...   \n",
       "607662              No Location        NaN                NaN   \n",
       "607663              No Location        NaN                NaN   \n",
       "607664              No Location        NaN                NaN   \n",
       "607665              No Location        NaN                NaN   \n",
       "607666              No Location        NaN                NaN   \n",
       "\n",
       "                          Crime type  \\\n",
       "0       Violence and sexual offences   \n",
       "1       Violence and sexual offences   \n",
       "2              Anti-social behaviour   \n",
       "3              Anti-social behaviour   \n",
       "5       Violence and sexual offences   \n",
       "...                              ...   \n",
       "607662                   Other crime   \n",
       "607663                   Other crime   \n",
       "607664                   Other crime   \n",
       "607665                   Other crime   \n",
       "607666                   Other crime   \n",
       "\n",
       "                                    Last outcome category        Day  \\\n",
       "0                               Status update unavailable    Tuesday   \n",
       "1                               Status update unavailable    Tuesday   \n",
       "2                                                     NaN    Tuesday   \n",
       "3                                                     NaN    Tuesday   \n",
       "5       Further investigation is not in the public int...    Tuesday   \n",
       "...                                                   ...        ...   \n",
       "607662                             Awaiting court outcome  Wednesday   \n",
       "607663                                Under investigation  Wednesday   \n",
       "607664                        Unable to prosecute suspect  Wednesday   \n",
       "607665                        Unable to prosecute suspect  Wednesday   \n",
       "607666                        Unable to prosecute suspect  Wednesday   \n",
       "\n",
       "           Month  Year  \n",
       "0       December  2020  \n",
       "1       December  2020  \n",
       "2       December  2020  \n",
       "3       December  2020  \n",
       "5       December  2020  \n",
       "...          ...   ...  \n",
       "607662  November  2023  \n",
       "607663  November  2023  \n",
       "607664  November  2023  \n",
       "607665  November  2023  \n",
       "607666  November  2023  \n",
       "\n",
       "[578648 rows x 14 columns]"
      ]
     },
     "execution_count": 20,
     "metadata": {},
     "output_type": "execute_result"
    }
   ],
   "source": [
    "crime"
   ]
  },
  {
   "cell_type": "code",
   "execution_count": 21,
   "id": "86fc41d5",
   "metadata": {
    "scrolled": true
   },
   "outputs": [
    {
     "name": "stdout",
     "output_type": "stream",
     "text": [
      "<class 'pandas.core.frame.DataFrame'>\n",
      "Index: 578648 entries, 0 to 607666\n",
      "Data columns (total 14 columns):\n",
      " #   Column                 Non-Null Count   Dtype  \n",
      "---  ------                 --------------   -----  \n",
      " 0   Crime ID               510159 non-null  object \n",
      " 1   Date                   578648 non-null  object \n",
      " 2   Reported by            578648 non-null  object \n",
      " 3   Jurisdiction           578648 non-null  object \n",
      " 4   Longitude              572387 non-null  float64\n",
      " 5   Latitude               572387 non-null  float64\n",
      " 6   Location               578648 non-null  object \n",
      " 7   LSOA code              572383 non-null  object \n",
      " 8   LSOA name              572383 non-null  object \n",
      " 9   Crime type             578648 non-null  object \n",
      " 10  Last outcome category  510159 non-null  object \n",
      " 11  Day                    578648 non-null  object \n",
      " 12  Month                  578648 non-null  object \n",
      " 13  Year                   578648 non-null  int64  \n",
      "dtypes: float64(2), int64(1), object(11)\n",
      "memory usage: 66.2+ MB\n"
     ]
    }
   ],
   "source": [
    "crime.info()"
   ]
  },
  {
   "cell_type": "code",
   "execution_count": 22,
   "id": "a2acd312",
   "metadata": {
    "scrolled": true
   },
   "outputs": [
    {
     "data": {
      "text/plain": [
       "0         2020\n",
       "1         2020\n",
       "2         2020\n",
       "3         2020\n",
       "5         2020\n",
       "          ... \n",
       "607662    2023\n",
       "607663    2023\n",
       "607664    2023\n",
       "607665    2023\n",
       "607666    2023\n",
       "Name: Year, Length: 578648, dtype: int64"
      ]
     },
     "execution_count": 22,
     "metadata": {},
     "output_type": "execute_result"
    }
   ],
   "source": [
    "crime.Year"
   ]
  },
  {
   "cell_type": "code",
   "execution_count": 23,
   "id": "d173b977",
   "metadata": {},
   "outputs": [
    {
     "data": {
      "text/plain": [
       "0         December\n",
       "1         December\n",
       "2         December\n",
       "3         December\n",
       "5         December\n",
       "            ...   \n",
       "607662    November\n",
       "607663    November\n",
       "607664    November\n",
       "607665    November\n",
       "607666    November\n",
       "Name: Month, Length: 578648, dtype: object"
      ]
     },
     "execution_count": 23,
     "metadata": {},
     "output_type": "execute_result"
    }
   ],
   "source": [
    "crime.Month"
   ]
  },
  {
   "cell_type": "code",
   "execution_count": 24,
   "id": "86e9d30d",
   "metadata": {},
   "outputs": [
    {
     "data": {
      "text/plain": [
       "0           Tuesday\n",
       "1           Tuesday\n",
       "2           Tuesday\n",
       "3           Tuesday\n",
       "5           Tuesday\n",
       "            ...    \n",
       "607662    Wednesday\n",
       "607663    Wednesday\n",
       "607664    Wednesday\n",
       "607665    Wednesday\n",
       "607666    Wednesday\n",
       "Name: Day, Length: 578648, dtype: object"
      ]
     },
     "execution_count": 24,
     "metadata": {},
     "output_type": "execute_result"
    }
   ],
   "source": [
    "crime.Day"
   ]
  },
  {
   "cell_type": "code",
   "execution_count": 27,
   "id": "ea65a3cb",
   "metadata": {
    "scrolled": true
   },
   "outputs": [
    {
     "data": {
      "text/plain": [
       "<bound method NDFrame.describe of                                                  Crime ID        Date  \\\n",
       "0       8d4544b7a30f88116299606d164e08462513e8feb8a9ce...  01/12/2020   \n",
       "1       adbf054b39875e6fc9f01acf0d48dfbfeed39e372470e7...  01/12/2020   \n",
       "2                                                     NaN  01/12/2020   \n",
       "3                                                     NaN  01/12/2020   \n",
       "5       01b273489aeeb8ad478f6ec4f116f30e5e27685bb72a44...  01/12/2020   \n",
       "...                                                   ...         ...   \n",
       "607662  622dc8b607ccaa4f5f0c8d1303ca5aa8ec6b387110113b...  01/11/2023   \n",
       "607663  e02b9fb749caab0c54458a005db48a7fd12fd72d7b0d15...  01/11/2023   \n",
       "607664  09b98abb5985f3196103999ca7df06e34f9f9e3516fba4...  01/11/2023   \n",
       "607665  7798d5c7fa06b90707ee52b724748f80cec5e59f04d583...  01/11/2023   \n",
       "607666  cfa27b1aba2f4d9afe26243830352b4249ae7ee06ec625...  01/11/2023   \n",
       "\n",
       "        Reported by Jurisdiction  Longitude   Latitude  \\\n",
       "0       Kent Police  Kent Police  -1.459830  53.026488   \n",
       "1       Kent Police  Kent Police  -0.656614  50.787593   \n",
       "2       Kent Police  Kent Police   0.968272  51.255956   \n",
       "3       Kent Police  Kent Police   0.962332  51.244504   \n",
       "5       Kent Police  Kent Police   0.962332  51.244504   \n",
       "...             ...          ...        ...        ...   \n",
       "607662  Kent Police  Kent Police        NaN        NaN   \n",
       "607663  Kent Police  Kent Police        NaN        NaN   \n",
       "607664  Kent Police  Kent Police        NaN        NaN   \n",
       "607665  Kent Police  Kent Police        NaN        NaN   \n",
       "607666  Kent Police  Kent Police        NaN        NaN   \n",
       "\n",
       "                       Location  LSOA code          LSOA name  \\\n",
       "0         On or near Farm Close  E01019411  Amber Valley 011B   \n",
       "1       On or near Parking Area  E01031419          Arun 015C   \n",
       "2         On or near Green Lane  E01023987       Ashford 001B   \n",
       "3         On or near The Square  E01023987       Ashford 001B   \n",
       "5         On or near The Square  E01023987       Ashford 001B   \n",
       "...                         ...        ...                ...   \n",
       "607662              No Location        NaN                NaN   \n",
       "607663              No Location        NaN                NaN   \n",
       "607664              No Location        NaN                NaN   \n",
       "607665              No Location        NaN                NaN   \n",
       "607666              No Location        NaN                NaN   \n",
       "\n",
       "                          Crime type  \\\n",
       "0       Violence and sexual offences   \n",
       "1       Violence and sexual offences   \n",
       "2              Anti-social behaviour   \n",
       "3              Anti-social behaviour   \n",
       "5       Violence and sexual offences   \n",
       "...                              ...   \n",
       "607662                   Other crime   \n",
       "607663                   Other crime   \n",
       "607664                   Other crime   \n",
       "607665                   Other crime   \n",
       "607666                   Other crime   \n",
       "\n",
       "                                    Last outcome category        Day  \\\n",
       "0                               Status update unavailable    Tuesday   \n",
       "1                               Status update unavailable    Tuesday   \n",
       "2                                                     NaN    Tuesday   \n",
       "3                                                     NaN    Tuesday   \n",
       "5       Further investigation is not in the public int...    Tuesday   \n",
       "...                                                   ...        ...   \n",
       "607662                             Awaiting court outcome  Wednesday   \n",
       "607663                                Under investigation  Wednesday   \n",
       "607664                        Unable to prosecute suspect  Wednesday   \n",
       "607665                        Unable to prosecute suspect  Wednesday   \n",
       "607666                        Unable to prosecute suspect  Wednesday   \n",
       "\n",
       "           Month  Year  \n",
       "0       December  2020  \n",
       "1       December  2020  \n",
       "2       December  2020  \n",
       "3       December  2020  \n",
       "5       December  2020  \n",
       "...          ...   ...  \n",
       "607662  November  2023  \n",
       "607663  November  2023  \n",
       "607664  November  2023  \n",
       "607665  November  2023  \n",
       "607666  November  2023  \n",
       "\n",
       "[578648 rows x 14 columns]>"
      ]
     },
     "execution_count": 27,
     "metadata": {},
     "output_type": "execute_result"
    }
   ],
   "source": [
    "crime.describe"
   ]
  },
  {
   "cell_type": "code",
   "execution_count": 28,
   "id": "3ec5edb1",
   "metadata": {},
   "outputs": [
    {
     "data": {
      "text/html": [
       "<div>\n",
       "<style scoped>\n",
       "    .dataframe tbody tr th:only-of-type {\n",
       "        vertical-align: middle;\n",
       "    }\n",
       "\n",
       "    .dataframe tbody tr th {\n",
       "        vertical-align: top;\n",
       "    }\n",
       "\n",
       "    .dataframe thead th {\n",
       "        text-align: right;\n",
       "    }\n",
       "</style>\n",
       "<table border=\"1\" class=\"dataframe\">\n",
       "  <thead>\n",
       "    <tr style=\"text-align: right;\">\n",
       "      <th></th>\n",
       "      <th>Crime ID</th>\n",
       "      <th>Date</th>\n",
       "      <th>Reported by</th>\n",
       "      <th>Jurisdiction</th>\n",
       "      <th>Location</th>\n",
       "      <th>LSOA code</th>\n",
       "      <th>LSOA name</th>\n",
       "      <th>Crime type</th>\n",
       "      <th>Last outcome category</th>\n",
       "      <th>Day</th>\n",
       "      <th>Month</th>\n",
       "    </tr>\n",
       "  </thead>\n",
       "  <tbody>\n",
       "    <tr>\n",
       "      <th>count</th>\n",
       "      <td>510159</td>\n",
       "      <td>578648</td>\n",
       "      <td>578648</td>\n",
       "      <td>578648</td>\n",
       "      <td>578648</td>\n",
       "      <td>572383</td>\n",
       "      <td>572383</td>\n",
       "      <td>578648</td>\n",
       "      <td>510159</td>\n",
       "      <td>578648</td>\n",
       "      <td>578648</td>\n",
       "    </tr>\n",
       "    <tr>\n",
       "      <th>unique</th>\n",
       "      <td>510147</td>\n",
       "      <td>36</td>\n",
       "      <td>1</td>\n",
       "      <td>1</td>\n",
       "      <td>16107</td>\n",
       "      <td>1791</td>\n",
       "      <td>1867</td>\n",
       "      <td>14</td>\n",
       "      <td>15</td>\n",
       "      <td>7</td>\n",
       "      <td>12</td>\n",
       "    </tr>\n",
       "    <tr>\n",
       "      <th>top</th>\n",
       "      <td>6fcb2b1abe74ab68464765c6dd898e07f378fdfe888377...</td>\n",
       "      <td>01/07/2021</td>\n",
       "      <td>Kent Police</td>\n",
       "      <td>Kent Police</td>\n",
       "      <td>On or near</td>\n",
       "      <td>E01033090</td>\n",
       "      <td>Maidstone 004F</td>\n",
       "      <td>Violence and sexual offences</td>\n",
       "      <td>Unable to prosecute suspect</td>\n",
       "      <td>Tuesday</td>\n",
       "      <td>July</td>\n",
       "    </tr>\n",
       "    <tr>\n",
       "      <th>freq</th>\n",
       "      <td>2</td>\n",
       "      <td>18899</td>\n",
       "      <td>578648</td>\n",
       "      <td>578648</td>\n",
       "      <td>24410</td>\n",
       "      <td>5278</td>\n",
       "      <td>5278</td>\n",
       "      <td>247607</td>\n",
       "      <td>243804</td>\n",
       "      <td>93992</td>\n",
       "      <td>53420</td>\n",
       "    </tr>\n",
       "  </tbody>\n",
       "</table>\n",
       "</div>"
      ],
      "text/plain": [
       "                                                 Crime ID        Date  \\\n",
       "count                                              510159      578648   \n",
       "unique                                             510147          36   \n",
       "top     6fcb2b1abe74ab68464765c6dd898e07f378fdfe888377...  01/07/2021   \n",
       "freq                                                    2       18899   \n",
       "\n",
       "        Reported by Jurisdiction     Location  LSOA code       LSOA name  \\\n",
       "count        578648       578648       578648     572383          572383   \n",
       "unique            1            1        16107       1791            1867   \n",
       "top     Kent Police  Kent Police  On or near   E01033090  Maidstone 004F   \n",
       "freq         578648       578648        24410       5278            5278   \n",
       "\n",
       "                          Crime type        Last outcome category      Day  \\\n",
       "count                         578648                       510159   578648   \n",
       "unique                            14                           15        7   \n",
       "top     Violence and sexual offences  Unable to prosecute suspect  Tuesday   \n",
       "freq                          247607                       243804    93992   \n",
       "\n",
       "         Month  \n",
       "count   578648  \n",
       "unique      12  \n",
       "top       July  \n",
       "freq     53420  "
      ]
     },
     "execution_count": 28,
     "metadata": {},
     "output_type": "execute_result"
    }
   ],
   "source": [
    "crime.describe(include=\"object\")"
   ]
  },
  {
   "cell_type": "code",
   "execution_count": 29,
   "id": "dd774321",
   "metadata": {},
   "outputs": [
    {
     "data": {
      "text/plain": [
       "Index(['Crime ID', 'Date', 'Reported by', 'Jurisdiction', 'Longitude',\n",
       "       'Latitude', 'Location', 'LSOA code', 'LSOA name', 'Crime type',\n",
       "       'Last outcome category', 'Day', 'Month', 'Year'],\n",
       "      dtype='object')"
      ]
     },
     "execution_count": 29,
     "metadata": {},
     "output_type": "execute_result"
    }
   ],
   "source": [
    "crime.columns"
   ]
  },
  {
   "cell_type": "code",
   "execution_count": 30,
   "id": "c92588d6",
   "metadata": {},
   "outputs": [
    {
     "data": {
      "text/plain": [
       "Index(['Crime ID', 'Longitude', 'Latitude', 'LSOA code', 'LSOA name',\n",
       "       'Last outcome category'],\n",
       "      dtype='object')"
      ]
     },
     "execution_count": 30,
     "metadata": {},
     "output_type": "execute_result"
    }
   ],
   "source": [
    "crime.columns[np.sum(crime.isnull())!=0]"
   ]
  },
  {
   "cell_type": "code",
   "execution_count": 31,
   "id": "a78054de",
   "metadata": {},
   "outputs": [
    {
     "data": {
      "text/plain": [
       "Index(['Date', 'Reported by', 'Jurisdiction', 'Location', 'Crime type', 'Day',\n",
       "       'Month', 'Year'],\n",
       "      dtype='object')"
      ]
     },
     "execution_count": 31,
     "metadata": {},
     "output_type": "execute_result"
    }
   ],
   "source": [
    "crime.columns[np.sum(crime.isnull())==0]"
   ]
  },
  {
   "cell_type": "code",
   "execution_count": 33,
   "id": "2d646cc7",
   "metadata": {
    "scrolled": false
   },
   "outputs": [
    {
     "name": "stdout",
     "output_type": "stream",
     "text": [
      "Crime ID has 510147 unique values\n",
      "Date has 36 unique values\n",
      "Reported by has 1 unique values\n",
      "Jurisdiction has 1 unique values\n",
      "Longitude has 40234 unique values\n",
      "Latitude has 38612 unique values\n",
      "Location has 16107 unique values\n",
      "LSOA code has 1791 unique values\n",
      "LSOA name has 1867 unique values\n",
      "Crime type has 14 unique values\n",
      "Last outcome category has 15 unique values\n",
      "Day has 7 unique values\n",
      "Month has 12 unique values\n",
      "Year has 4 unique values\n"
     ]
    }
   ],
   "source": [
    "for col in crime.columns:\n",
    "    unique_count = crime[col].nunique()\n",
    "    print(col, \"has\", unique_count, \"unique values\")"
   ]
  },
  {
   "cell_type": "code",
   "execution_count": 39,
   "id": "06f4c4af",
   "metadata": {},
   "outputs": [
    {
     "data": {
      "text/plain": [
       "Crime type\n",
       "Violence and sexual offences    247607\n",
       "Anti-social behaviour            68489\n",
       "Criminal damage and arson        59147\n",
       "Other theft                      39481\n",
       "Public order                     37254\n",
       "Shoplifting                      35725\n",
       "Vehicle crime                    26908\n",
       "Burglary                         19460\n",
       "Other crime                      16855\n",
       "Drugs                            13768\n",
       "Possession of weapons             4217\n",
       "Robbery                           3635\n",
       "Bicycle theft                     3239\n",
       "Theft from the person             2863\n",
       "Name: count, dtype: int64"
      ]
     },
     "execution_count": 39,
     "metadata": {},
     "output_type": "execute_result"
    }
   ],
   "source": [
    "#What are the most common types of crime?\n",
    "\n",
    "crime[\"Crime type\"].value_counts()"
   ]
  },
  {
   "cell_type": "code",
   "execution_count": 54,
   "id": "438835e5",
   "metadata": {},
   "outputs": [
    {
     "data": {
      "text/plain": [
       "Crime type\n",
       "Violence and sexual offences    0.427906\n",
       "Anti-social behaviour           0.118360\n",
       "Criminal damage and arson       0.102216\n",
       "Other theft                     0.068230\n",
       "Public order                    0.064381\n",
       "Name: count, dtype: float64"
      ]
     },
     "metadata": {},
     "output_type": "display_data"
    },
    {
     "data": {
      "text/plain": [
       "Text(0.5, 1.0, 'Top 5 Crime Types (as % of Total crimes)')"
      ]
     },
     "execution_count": 54,
     "metadata": {},
     "output_type": "execute_result"
    },
    {
     "data": {
      "image/png": "[encoded data removed]",
      "text/plain": [
       "<Figure size 640x480 with 1 Axes>"
      ]
     },
     "metadata": {},
     "output_type": "display_data"
    }
   ],
   "source": [
    "# Plotting the Top 5 most common crimes as %'s\n",
    "\n",
    "top_5_crime_type_values = crime[\"Crime type\"].value_counts()[:5]\n",
    "display(top_5_crime_type_values / crime.shape[0])\n",
    "((top_5_crime_type_values / crime.shape[0])*100).plot(kind=\"bar\");\n",
    "plt.title(\"Top 5 Crime Types (as % of Total crimes)\")"
   ]
  },
  {
   "cell_type": "code",
   "execution_count": 40,
   "id": "38d199f5",
   "metadata": {},
   "outputs": [
    {
     "data": {
      "text/plain": [
       "Crime type\n",
       "Theft from the person     2863\n",
       "Bicycle theft             3239\n",
       "Robbery                   3635\n",
       "Possession of weapons     4217\n",
       "Drugs                    13768\n",
       "Other crime              16855\n",
       "Burglary                 19460\n",
       "Vehicle crime            26908\n",
       "Shoplifting              35725\n",
       "Public order             37254\n",
       "Name: count, dtype: int64"
      ]
     },
     "execution_count": 40,
     "metadata": {},
     "output_type": "execute_result"
    }
   ],
   "source": [
    "#What are the least common types of crimes?\n",
    "\n",
    "crime[\"Crime type\"].value_counts().sort_values(ascending=True)[:5]"
   ]
  },
  {
   "cell_type": "code",
   "execution_count": 55,
   "id": "fba884ef",
   "metadata": {},
   "outputs": [
    {
     "data": {
      "text/plain": [
       "Crime type\n",
       "Theft from the person    0.004948\n",
       "Bicycle theft            0.005598\n",
       "Robbery                  0.006282\n",
       "Possession of weapons    0.007288\n",
       "Drugs                    0.023793\n",
       "Name: count, dtype: float64"
      ]
     },
     "metadata": {},
     "output_type": "display_data"
    },
    {
     "data": {
      "text/plain": [
       "Text(0, 0.5, '%')"
      ]
     },
     "execution_count": 55,
     "metadata": {},
     "output_type": "execute_result"
    },
    {
     "data": {
      "image/png": "[encoded data removed]",
      "text/plain": [
       "<Figure size 640x480 with 1 Axes>"
      ]
     },
     "metadata": {},
     "output_type": "display_data"
    }
   ],
   "source": [
    "# Plotting the Top 5 least common crimes as %'s\n",
    "\n",
    "bottom_5_crime_type_values = crime[\"Crime type\"].value_counts().sort_values(ascending=True)[:5]\n",
    "display(bottom_5_crime_type_values / crime.shape[0])\n",
    "((bottom_5_crime_type_values / crime.shape[0])*100).plot(kind=\"bar\");\n",
    "plt.title(\"Top 5 Least Common Crime Types (as % of Total crimes)\")\n",
    "plt.ylabel(\"%\")"
   ]
  },
  {
   "cell_type": "code",
   "execution_count": 60,
   "id": "5286d01e",
   "metadata": {},
   "outputs": [
    {
     "data": {
      "text/plain": [
       "Text(0.5, 1.0, 'Number of crimes per Year')"
      ]
     },
     "execution_count": 60,
     "metadata": {},
     "output_type": "execute_result"
    },
    {
     "data": {
      "image/png": "[encoded data removed]",
      "text/plain": [
       "<Figure size 640x480 with 1 Axes>"
      ]
     },
     "metadata": {},
     "output_type": "display_data"
    }
   ],
   "source": [
    "# What years have had the most amount of crime? \n",
    "# note: year 2020 shows a significantly lower number due to the data set only have the last month of the year included\n",
    "\n",
    "crime.groupby(\"Year\").count()[\"Crime ID\"].plot(kind=\"bar\")\n",
    "plt.title(\"Number of crimes per Year\")"
   ]
  },
  {
   "cell_type": "code",
   "execution_count": 15,
   "id": "9480af8a",
   "metadata": {},
   "outputs": [
    {
     "data": {
      "text/plain": [
       "Text(0.5, 1.0, 'Number of crimes each Day of the Week')"
      ]
     },
     "execution_count": 15,
     "metadata": {},
     "output_type": "execute_result"
    },
    {
     "data": {
      "image/png": "[encoded data removed]",
      "text/plain": [
       "<Figure size 640x480 with 1 Axes>"
      ]
     },
     "metadata": {},
     "output_type": "display_data"
    }
   ],
   "source": [
    "# Are there specific days that crimes are more likely to be committed?\n",
    "\n",
    "weekday_order = [\"Monday\", \"Tuesday\", \"Wednesday\", \"Thursday\", \"Friday\", \"Saturday\", \"Sunday\"]\n",
    "\n",
    "crime[\"Day\"] = pd.Categorical(crime[\"Day\"], categories=weekday_order, ordered=True)\n",
    "\n",
    "# Group by \"Day\" and count occurrences of \"Crime ID\", then plot the bar chart\n",
    "crime.groupby(\"Day\").count()[\"Crime ID\"].plot(kind=\"bar\")\n",
    "plt.title(\"Number of crimes each Day of the Week\")\n"
   ]
  },
  {
   "cell_type": "code",
   "execution_count": 59,
   "id": "a4087677",
   "metadata": {},
   "outputs": [],
   "source": [
    "# What days and year are the most crimes committed?\n",
    "\n",
    "year_and_day=crime.groupby([\"Day\",\"Year\"]).count()[\"Crime ID\"].unstack()\n"
   ]
  },
  {
   "cell_type": "code",
   "execution_count": 61,
   "id": "5cc5885d",
   "metadata": {},
   "outputs": [],
   "source": [
    "year_and_day.columns = [\"2020\", \"2021\", \"2022\", \"2023\"]"
   ]
  },
  {
   "cell_type": "code",
   "execution_count": 62,
   "id": "a6702ec3",
   "metadata": {
    "scrolled": false
   },
   "outputs": [
    {
     "data": {
      "image/png": "[encoded data removed]",
      "text/plain": [
       "<Figure size 640x480 with 2 Axes>"
      ]
     },
     "metadata": {},
     "output_type": "display_data"
    }
   ],
   "source": [
    "sns.heatmap(year_and_day, cmap= sns.cubehelix_palette(as_cmap=True));"
   ]
  },
  {
   "cell_type": "code",
   "execution_count": 68,
   "id": "d1599045",
   "metadata": {},
   "outputs": [
    {
     "name": "stdout",
     "output_type": "stream",
     "text": [
      "The average crime rate was 14171.083333333334\n"
     ]
    },
    {
     "data": {
      "text/html": [
       "<style type=\"text/css\">\n",
       "#T_e1a0d_row0_col1, #T_e1a0d_row0_col3, #T_e1a0d_row1_col1, #T_e1a0d_row1_col2, #T_e1a0d_row1_col3, #T_e1a0d_row2_col1, #T_e1a0d_row2_col3, #T_e1a0d_row3_col3, #T_e1a0d_row5_col1, #T_e1a0d_row5_col3, #T_e1a0d_row8_col3, #T_e1a0d_row9_col2, #T_e1a0d_row9_col3, #T_e1a0d_row10_col2, #T_e1a0d_row10_col3, #T_e1a0d_row11_col0, #T_e1a0d_row11_col2 {\n",
       "  color: red;\n",
       "}\n",
       "</style>\n",
       "<table id=\"T_e1a0d\">\n",
       "  <thead>\n",
       "    <tr>\n",
       "      <th class=\"index_name level0\" >Year</th>\n",
       "      <th id=\"T_e1a0d_level0_col0\" class=\"col_heading level0 col0\" >2020</th>\n",
       "      <th id=\"T_e1a0d_level0_col1\" class=\"col_heading level0 col1\" >2021</th>\n",
       "      <th id=\"T_e1a0d_level0_col2\" class=\"col_heading level0 col2\" >2022</th>\n",
       "      <th id=\"T_e1a0d_level0_col3\" class=\"col_heading level0 col3\" >2023</th>\n",
       "    </tr>\n",
       "    <tr>\n",
       "      <th class=\"index_name level0\" >Month</th>\n",
       "      <th class=\"blank col0\" >&nbsp;</th>\n",
       "      <th class=\"blank col1\" >&nbsp;</th>\n",
       "      <th class=\"blank col2\" >&nbsp;</th>\n",
       "      <th class=\"blank col3\" >&nbsp;</th>\n",
       "    </tr>\n",
       "  </thead>\n",
       "  <tbody>\n",
       "    <tr>\n",
       "      <th id=\"T_e1a0d_level0_row0\" class=\"row_heading level0 row0\" >January</th>\n",
       "      <td id=\"T_e1a0d_row0_col0\" class=\"data row0 col0\" >nan</td>\n",
       "      <td id=\"T_e1a0d_row0_col1\" class=\"data row0 col1\" >12175.000000</td>\n",
       "      <td id=\"T_e1a0d_row0_col2\" class=\"data row0 col2\" >14300.000000</td>\n",
       "      <td id=\"T_e1a0d_row0_col3\" class=\"data row0 col3\" >12772.000000</td>\n",
       "    </tr>\n",
       "    <tr>\n",
       "      <th id=\"T_e1a0d_level0_row1\" class=\"row_heading level0 row1\" >February</th>\n",
       "      <td id=\"T_e1a0d_row1_col0\" class=\"data row1 col0\" >nan</td>\n",
       "      <td id=\"T_e1a0d_row1_col1\" class=\"data row1 col1\" >11860.000000</td>\n",
       "      <td id=\"T_e1a0d_row1_col2\" class=\"data row1 col2\" >13401.000000</td>\n",
       "      <td id=\"T_e1a0d_row1_col3\" class=\"data row1 col3\" >12709.000000</td>\n",
       "    </tr>\n",
       "    <tr>\n",
       "      <th id=\"T_e1a0d_level0_row2\" class=\"row_heading level0 row2\" >March</th>\n",
       "      <td id=\"T_e1a0d_row2_col0\" class=\"data row2 col0\" >nan</td>\n",
       "      <td id=\"T_e1a0d_row2_col1\" class=\"data row2 col1\" >13380.000000</td>\n",
       "      <td id=\"T_e1a0d_row2_col2\" class=\"data row2 col2\" >15068.000000</td>\n",
       "      <td id=\"T_e1a0d_row2_col3\" class=\"data row2 col3\" >13799.000000</td>\n",
       "    </tr>\n",
       "    <tr>\n",
       "      <th id=\"T_e1a0d_level0_row3\" class=\"row_heading level0 row3\" >April</th>\n",
       "      <td id=\"T_e1a0d_row3_col0\" class=\"data row3 col0\" >nan</td>\n",
       "      <td id=\"T_e1a0d_row3_col1\" class=\"data row3 col1\" >14311.000000</td>\n",
       "      <td id=\"T_e1a0d_row3_col2\" class=\"data row3 col2\" >14605.000000</td>\n",
       "      <td id=\"T_e1a0d_row3_col3\" class=\"data row3 col3\" >13780.000000</td>\n",
       "    </tr>\n",
       "    <tr>\n",
       "      <th id=\"T_e1a0d_level0_row4\" class=\"row_heading level0 row4\" >May</th>\n",
       "      <td id=\"T_e1a0d_row4_col0\" class=\"data row4 col0\" >nan</td>\n",
       "      <td id=\"T_e1a0d_row4_col1\" class=\"data row4 col1\" >14930.000000</td>\n",
       "      <td id=\"T_e1a0d_row4_col2\" class=\"data row4 col2\" >14826.000000</td>\n",
       "      <td id=\"T_e1a0d_row4_col3\" class=\"data row4 col3\" >14316.000000</td>\n",
       "    </tr>\n",
       "    <tr>\n",
       "      <th id=\"T_e1a0d_level0_row5\" class=\"row_heading level0 row5\" >June</th>\n",
       "      <td id=\"T_e1a0d_row5_col0\" class=\"data row5 col0\" >nan</td>\n",
       "      <td id=\"T_e1a0d_row5_col1\" class=\"data row5 col1\" >13965.000000</td>\n",
       "      <td id=\"T_e1a0d_row5_col2\" class=\"data row5 col2\" >14836.000000</td>\n",
       "      <td id=\"T_e1a0d_row5_col3\" class=\"data row5 col3\" >14096.000000</td>\n",
       "    </tr>\n",
       "    <tr>\n",
       "      <th id=\"T_e1a0d_level0_row6\" class=\"row_heading level0 row6\" >July</th>\n",
       "      <td id=\"T_e1a0d_row6_col0\" class=\"data row6 col0\" >nan</td>\n",
       "      <td id=\"T_e1a0d_row6_col1\" class=\"data row6 col1\" >16573.000000</td>\n",
       "      <td id=\"T_e1a0d_row6_col2\" class=\"data row6 col2\" >15074.000000</td>\n",
       "      <td id=\"T_e1a0d_row6_col3\" class=\"data row6 col3\" >15409.000000</td>\n",
       "    </tr>\n",
       "    <tr>\n",
       "      <th id=\"T_e1a0d_level0_row7\" class=\"row_heading level0 row7\" >August</th>\n",
       "      <td id=\"T_e1a0d_row7_col0\" class=\"data row7 col0\" >nan</td>\n",
       "      <td id=\"T_e1a0d_row7_col1\" class=\"data row7 col1\" >15119.000000</td>\n",
       "      <td id=\"T_e1a0d_row7_col2\" class=\"data row7 col2\" >15128.000000</td>\n",
       "      <td id=\"T_e1a0d_row7_col3\" class=\"data row7 col3\" >14273.000000</td>\n",
       "    </tr>\n",
       "    <tr>\n",
       "      <th id=\"T_e1a0d_level0_row8\" class=\"row_heading level0 row8\" >September</th>\n",
       "      <td id=\"T_e1a0d_row8_col0\" class=\"data row8 col0\" >nan</td>\n",
       "      <td id=\"T_e1a0d_row8_col1\" class=\"data row8 col1\" >14943.000000</td>\n",
       "      <td id=\"T_e1a0d_row8_col2\" class=\"data row8 col2\" >14357.000000</td>\n",
       "      <td id=\"T_e1a0d_row8_col3\" class=\"data row8 col3\" >14160.000000</td>\n",
       "    </tr>\n",
       "    <tr>\n",
       "      <th id=\"T_e1a0d_level0_row9\" class=\"row_heading level0 row9\" >October</th>\n",
       "      <td id=\"T_e1a0d_row9_col0\" class=\"data row9 col0\" >nan</td>\n",
       "      <td id=\"T_e1a0d_row9_col1\" class=\"data row9 col1\" >15206.000000</td>\n",
       "      <td id=\"T_e1a0d_row9_col2\" class=\"data row9 col2\" >13930.000000</td>\n",
       "      <td id=\"T_e1a0d_row9_col3\" class=\"data row9 col3\" >14024.000000</td>\n",
       "    </tr>\n",
       "    <tr>\n",
       "      <th id=\"T_e1a0d_level0_row10\" class=\"row_heading level0 row10\" >November</th>\n",
       "      <td id=\"T_e1a0d_row10_col0\" class=\"data row10 col0\" >nan</td>\n",
       "      <td id=\"T_e1a0d_row10_col1\" class=\"data row10 col1\" >15697.000000</td>\n",
       "      <td id=\"T_e1a0d_row10_col2\" class=\"data row10 col2\" >14121.000000</td>\n",
       "      <td id=\"T_e1a0d_row10_col3\" class=\"data row10 col3\" >13287.000000</td>\n",
       "    </tr>\n",
       "    <tr>\n",
       "      <th id=\"T_e1a0d_level0_row11\" class=\"row_heading level0 row11\" >December</th>\n",
       "      <td id=\"T_e1a0d_row11_col0\" class=\"data row11 col0\" >11953.000000</td>\n",
       "      <td id=\"T_e1a0d_row11_col1\" class=\"data row11 col1\" >14381.000000</td>\n",
       "      <td id=\"T_e1a0d_row11_col2\" class=\"data row11 col2\" >13395.000000</td>\n",
       "      <td id=\"T_e1a0d_row11_col3\" class=\"data row11 col3\" >nan</td>\n",
       "    </tr>\n",
       "  </tbody>\n",
       "</table>\n"
      ],
      "text/plain": [
       "<pandas.io.formats.style.Styler at 0x28facb8b450>"
      ]
     },
     "execution_count": 68,
     "metadata": {},
     "output_type": "execute_result"
    }
   ],
   "source": [
    "# What months had a below average crime?\n",
    "\n",
    "avg_crime_rate = crime.groupby([\"Year\", \"Month\"]).count()[\"Crime ID\"].mean()\n",
    "print(\"The average crime rate was\", avg_crime_rate)\n",
    "\n",
    "year_and_month = crime.groupby([\"Month\", \"Year\"]).count()[\"Crime ID\"].unstack()\n",
    "month_order = [\"January\", \"February\", \"March\", \"April\", \"May\", \"June\", \"July\", \"August\", \"September\", \"October\", \"November\", \"December\"]\n",
    "year_and_month = year_and_month.reindex(month_order)\n",
    "\n",
    "def style_negative(v,props=\"\"):\n",
    "    return props if v<avg_crime_rate else None\n",
    "s2 = year_and_month.style.applymap(style_negative, props=\"color:red;\")\\\n",
    "        .applymap(lambda v:\"opacity:20%;\" if (v<0.3) and (v>-0.3) else None)\n",
    "s2"
   ]
  },
  {
   "cell_type": "code",
   "execution_count": 69,
   "id": "1b9fa842",
   "metadata": {},
   "outputs": [
    {
     "data": {
      "text/html": [
       "<style type=\"text/css\">\n",
       "#T_e1a0d_row0_col1, #T_e1a0d_row0_col3, #T_e1a0d_row1_col1, #T_e1a0d_row1_col2, #T_e1a0d_row1_col3, #T_e1a0d_row2_col1, #T_e1a0d_row2_col3, #T_e1a0d_row3_col3, #T_e1a0d_row5_col1, #T_e1a0d_row5_col3, #T_e1a0d_row8_col3, #T_e1a0d_row9_col2, #T_e1a0d_row9_col3, #T_e1a0d_row10_col2, #T_e1a0d_row10_col3, #T_e1a0d_row11_col2 {\n",
       "  color: red;\n",
       "}\n",
       "#T_e1a0d_row6_col1, #T_e1a0d_row6_col3, #T_e1a0d_row7_col2 {\n",
       "  color: white;\n",
       "  background-color: Black;\n",
       "}\n",
       "#T_e1a0d_row11_col0 {\n",
       "  color: red;\n",
       "  color: white;\n",
       "  background-color: Black;\n",
       "}\n",
       "</style>\n",
       "<table id=\"T_e1a0d\">\n",
       "  <thead>\n",
       "    <tr>\n",
       "      <th class=\"index_name level0\" >Year</th>\n",
       "      <th id=\"T_e1a0d_level0_col0\" class=\"col_heading level0 col0\" >2020</th>\n",
       "      <th id=\"T_e1a0d_level0_col1\" class=\"col_heading level0 col1\" >2021</th>\n",
       "      <th id=\"T_e1a0d_level0_col2\" class=\"col_heading level0 col2\" >2022</th>\n",
       "      <th id=\"T_e1a0d_level0_col3\" class=\"col_heading level0 col3\" >2023</th>\n",
       "    </tr>\n",
       "    <tr>\n",
       "      <th class=\"index_name level0\" >Month</th>\n",
       "      <th class=\"blank col0\" >&nbsp;</th>\n",
       "      <th class=\"blank col1\" >&nbsp;</th>\n",
       "      <th class=\"blank col2\" >&nbsp;</th>\n",
       "      <th class=\"blank col3\" >&nbsp;</th>\n",
       "    </tr>\n",
       "  </thead>\n",
       "  <tbody>\n",
       "    <tr>\n",
       "      <th id=\"T_e1a0d_level0_row0\" class=\"row_heading level0 row0\" >January</th>\n",
       "      <td id=\"T_e1a0d_row0_col0\" class=\"data row0 col0\" >nan</td>\n",
       "      <td id=\"T_e1a0d_row0_col1\" class=\"data row0 col1\" >12175.000000</td>\n",
       "      <td id=\"T_e1a0d_row0_col2\" class=\"data row0 col2\" >14300.000000</td>\n",
       "      <td id=\"T_e1a0d_row0_col3\" class=\"data row0 col3\" >12772.000000</td>\n",
       "    </tr>\n",
       "    <tr>\n",
       "      <th id=\"T_e1a0d_level0_row1\" class=\"row_heading level0 row1\" >February</th>\n",
       "      <td id=\"T_e1a0d_row1_col0\" class=\"data row1 col0\" >nan</td>\n",
       "      <td id=\"T_e1a0d_row1_col1\" class=\"data row1 col1\" >11860.000000</td>\n",
       "      <td id=\"T_e1a0d_row1_col2\" class=\"data row1 col2\" >13401.000000</td>\n",
       "      <td id=\"T_e1a0d_row1_col3\" class=\"data row1 col3\" >12709.000000</td>\n",
       "    </tr>\n",
       "    <tr>\n",
       "      <th id=\"T_e1a0d_level0_row2\" class=\"row_heading level0 row2\" >March</th>\n",
       "      <td id=\"T_e1a0d_row2_col0\" class=\"data row2 col0\" >nan</td>\n",
       "      <td id=\"T_e1a0d_row2_col1\" class=\"data row2 col1\" >13380.000000</td>\n",
       "      <td id=\"T_e1a0d_row2_col2\" class=\"data row2 col2\" >15068.000000</td>\n",
       "      <td id=\"T_e1a0d_row2_col3\" class=\"data row2 col3\" >13799.000000</td>\n",
       "    </tr>\n",
       "    <tr>\n",
       "      <th id=\"T_e1a0d_level0_row3\" class=\"row_heading level0 row3\" >April</th>\n",
       "      <td id=\"T_e1a0d_row3_col0\" class=\"data row3 col0\" >nan</td>\n",
       "      <td id=\"T_e1a0d_row3_col1\" class=\"data row3 col1\" >14311.000000</td>\n",
       "      <td id=\"T_e1a0d_row3_col2\" class=\"data row3 col2\" >14605.000000</td>\n",
       "      <td id=\"T_e1a0d_row3_col3\" class=\"data row3 col3\" >13780.000000</td>\n",
       "    </tr>\n",
       "    <tr>\n",
       "      <th id=\"T_e1a0d_level0_row4\" class=\"row_heading level0 row4\" >May</th>\n",
       "      <td id=\"T_e1a0d_row4_col0\" class=\"data row4 col0\" >nan</td>\n",
       "      <td id=\"T_e1a0d_row4_col1\" class=\"data row4 col1\" >14930.000000</td>\n",
       "      <td id=\"T_e1a0d_row4_col2\" class=\"data row4 col2\" >14826.000000</td>\n",
       "      <td id=\"T_e1a0d_row4_col3\" class=\"data row4 col3\" >14316.000000</td>\n",
       "    </tr>\n",
       "    <tr>\n",
       "      <th id=\"T_e1a0d_level0_row5\" class=\"row_heading level0 row5\" >June</th>\n",
       "      <td id=\"T_e1a0d_row5_col0\" class=\"data row5 col0\" >nan</td>\n",
       "      <td id=\"T_e1a0d_row5_col1\" class=\"data row5 col1\" >13965.000000</td>\n",
       "      <td id=\"T_e1a0d_row5_col2\" class=\"data row5 col2\" >14836.000000</td>\n",
       "      <td id=\"T_e1a0d_row5_col3\" class=\"data row5 col3\" >14096.000000</td>\n",
       "    </tr>\n",
       "    <tr>\n",
       "      <th id=\"T_e1a0d_level0_row6\" class=\"row_heading level0 row6\" >July</th>\n",
       "      <td id=\"T_e1a0d_row6_col0\" class=\"data row6 col0\" >nan</td>\n",
       "      <td id=\"T_e1a0d_row6_col1\" class=\"data row6 col1\" >16573.000000</td>\n",
       "      <td id=\"T_e1a0d_row6_col2\" class=\"data row6 col2\" >15074.000000</td>\n",
       "      <td id=\"T_e1a0d_row6_col3\" class=\"data row6 col3\" >15409.000000</td>\n",
       "    </tr>\n",
       "    <tr>\n",
       "      <th id=\"T_e1a0d_level0_row7\" class=\"row_heading level0 row7\" >August</th>\n",
       "      <td id=\"T_e1a0d_row7_col0\" class=\"data row7 col0\" >nan</td>\n",
       "      <td id=\"T_e1a0d_row7_col1\" class=\"data row7 col1\" >15119.000000</td>\n",
       "      <td id=\"T_e1a0d_row7_col2\" class=\"data row7 col2\" >15128.000000</td>\n",
       "      <td id=\"T_e1a0d_row7_col3\" class=\"data row7 col3\" >14273.000000</td>\n",
       "    </tr>\n",
       "    <tr>\n",
       "      <th id=\"T_e1a0d_level0_row8\" class=\"row_heading level0 row8\" >September</th>\n",
       "      <td id=\"T_e1a0d_row8_col0\" class=\"data row8 col0\" >nan</td>\n",
       "      <td id=\"T_e1a0d_row8_col1\" class=\"data row8 col1\" >14943.000000</td>\n",
       "      <td id=\"T_e1a0d_row8_col2\" class=\"data row8 col2\" >14357.000000</td>\n",
       "      <td id=\"T_e1a0d_row8_col3\" class=\"data row8 col3\" >14160.000000</td>\n",
       "    </tr>\n",
       "    <tr>\n",
       "      <th id=\"T_e1a0d_level0_row9\" class=\"row_heading level0 row9\" >October</th>\n",
       "      <td id=\"T_e1a0d_row9_col0\" class=\"data row9 col0\" >nan</td>\n",
       "      <td id=\"T_e1a0d_row9_col1\" class=\"data row9 col1\" >15206.000000</td>\n",
       "      <td id=\"T_e1a0d_row9_col2\" class=\"data row9 col2\" >13930.000000</td>\n",
       "      <td id=\"T_e1a0d_row9_col3\" class=\"data row9 col3\" >14024.000000</td>\n",
       "    </tr>\n",
       "    <tr>\n",
       "      <th id=\"T_e1a0d_level0_row10\" class=\"row_heading level0 row10\" >November</th>\n",
       "      <td id=\"T_e1a0d_row10_col0\" class=\"data row10 col0\" >nan</td>\n",
       "      <td id=\"T_e1a0d_row10_col1\" class=\"data row10 col1\" >15697.000000</td>\n",
       "      <td id=\"T_e1a0d_row10_col2\" class=\"data row10 col2\" >14121.000000</td>\n",
       "      <td id=\"T_e1a0d_row10_col3\" class=\"data row10 col3\" >13287.000000</td>\n",
       "    </tr>\n",
       "    <tr>\n",
       "      <th id=\"T_e1a0d_level0_row11\" class=\"row_heading level0 row11\" >December</th>\n",
       "      <td id=\"T_e1a0d_row11_col0\" class=\"data row11 col0\" >11953.000000</td>\n",
       "      <td id=\"T_e1a0d_row11_col1\" class=\"data row11 col1\" >14381.000000</td>\n",
       "      <td id=\"T_e1a0d_row11_col2\" class=\"data row11 col2\" >13395.000000</td>\n",
       "      <td id=\"T_e1a0d_row11_col3\" class=\"data row11 col3\" >nan</td>\n",
       "    </tr>\n",
       "  </tbody>\n",
       "</table>\n"
      ],
      "text/plain": [
       "<pandas.io.formats.style.Styler at 0x28facb8b450>"
      ]
     },
     "execution_count": 69,
     "metadata": {},
     "output_type": "execute_result"
    }
   ],
   "source": [
    "# What month had the most crime in each year?\n",
    "\n",
    "def highlight_max(s, props=\"\"):\n",
    "    return np.where(s == np.nanmax(s.values), props, \"\")\n",
    "s2.apply(highlight_max, props=\"color:white;background-color:Black\", axis=0)"
   ]
  },
  {
   "cell_type": "code",
   "execution_count": null,
   "id": "c4d938a4",
   "metadata": {},
   "outputs": [],
   "source": []
  }
 ],
 "metadata": {
  "kernelspec": {
   "display_name": "Python 3 (ipykernel)",
   "language": "python",
   "name": "python3"
  },
  "language_info": {
   "codemirror_mode": {
    "name": "ipython",
    "version": 3
   },
   "file_extension": ".py",
   "mimetype": "text/x-python",
   "name": "python",
   "nbconvert_exporter": "python",
   "pygments_lexer": "ipython3",
   "version": "3.11.5"
  }
 },
 "nbformat": 4,
 "nbformat_minor": 5
}
